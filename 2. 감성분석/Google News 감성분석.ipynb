{
 "cells": [
  {
   "cell_type": "code",
   "execution_count": 35,
   "metadata": {},
   "outputs": [],
   "source": [
    "import nltk\n",
    "from urllib.request import urlopen, Request\n",
    "from bs4 import BeautifulSoup\n",
    "import datetime\n",
    "import pandas as pd\n",
    "import numpy as np\n",
    "import seaborn as sns\n",
    "from nltk.sentiment.vader import SentimentIntensityAnalyzer\n",
    "import matplotlib.pyplot as plt\n",
    "import yahoo_fin.stock_info as si\n",
    "from yahoo_fin import options\n",
    "\n",
    "from os import listdir\n",
    "from os.path import isfile, join"
   ]
  },
  {
   "cell_type": "code",
   "execution_count": 352,
   "metadata": {},
   "outputs": [],
   "source": [
    "data_path = 'result/'\n",
    "test = [f for f in listdir(data_path) if isfile(join(data_path,f))]"
   ]
  },
  {
   "cell_type": "code",
   "execution_count": 353,
   "metadata": {},
   "outputs": [
    {
     "data": {
      "text/plain": [
       "['ALPHABET_20179_202010.csv',\n",
       " 'AMAZON_.csv',\n",
       " 'APPLE_20198_202010.csv',\n",
       " 'BERKSHIRE HATHAWAY_20207_202010.csv',\n",
       " 'FACEBOOK_20205_202010.csv',\n",
       " 'JOHNSON & JOHNSON_20185_20187.csv',\n",
       " 'MERCK AND CO_20202_202010.csv',\n",
       " 'MICROSOFT_20208_202010.csv',\n",
       " 'NIKE_20203_202010.csv',\n",
       " 'NVIDIA_20179_201710.csv',\n",
       " 'P&G_1.csv',\n",
       " 'PFIZER_201911_202010.csv',\n",
       " 'TESLA_.csv',\n",
       " 'VISA_20205_202010.csv',\n",
       " 'WALMART_20179_201710.csv']"
      ]
     },
     "execution_count": 353,
     "metadata": {},
     "output_type": "execute_result"
    }
   ],
   "source": [
    "test"
   ]
  },
  {
   "cell_type": "code",
   "execution_count": 354,
   "metadata": {},
   "outputs": [],
   "source": [
    "def sentiment_declareation(sentiment_value):\n",
    "    if -0.2 < sentiment_value <= 0.2:\n",
    "        return 'neu'\n",
    "    elif 0.2 < sentiment_value <= 1.0:\n",
    "        return 'pos'\n",
    "    elif -1.0 <= sentiment_value <= -0.2:\n",
    "        return 'neg'"
   ]
  },
  {
   "cell_type": "code",
   "execution_count": 355,
   "metadata": {},
   "outputs": [],
   "source": [
    "count = 0\n",
    "for i in range(0,len(test)):\n",
    "    dataset = pd.read_csv(data_path + test[i],encoding= 'unicode_escape')\n",
    "    name = test[i][:test[i].find(\"_\")]\n",
    "    industry = [name for i in range(len(dataset))]\n",
    "    dataset = pd.DataFrame({'Company':industry,'Date':dataset['date'], 'News Headline':dataset['title']})\n",
    "    sia=SentimentIntensityAnalyzer()\n",
    "    dataset['Compound'] = dataset['News Headline'].apply(lambda headline: sia.polarity_scores(headline)['compound'])\n",
    "    dataset['Sentiment'] = dataset['Compound'].apply(lambda value: sentiment_declareation(value))\n",
    "    #dataset['Date'] = pd.to_datetime(dataset.Date).dt.date\n",
    "    \n",
    "    \n",
    "    if (count == 0):\n",
    "        final_dataset = dataset\n",
    "    else:\n",
    "        final_dataset = pd.concat([final_dataset, dataset],ignore_index = True)\n",
    "    count = count + 1"
   ]
  },
  {
   "cell_type": "code",
   "execution_count": 356,
   "metadata": {},
   "outputs": [],
   "source": [
    "final_dataset['pos'] = final_dataset['Sentiment'] == 'pos'\n",
    "final_dataset['neg'] = final_dataset['Sentiment'] == 'neg'\n",
    "final_dataset['neu'] = final_dataset['Sentiment'] == 'neu'"
   ]
  },
  {
   "cell_type": "code",
   "execution_count": 357,
   "metadata": {},
   "outputs": [
    {
     "data": {
      "text/html": [
       "<div>\n",
       "<style scoped>\n",
       "    .dataframe tbody tr th:only-of-type {\n",
       "        vertical-align: middle;\n",
       "    }\n",
       "\n",
       "    .dataframe tbody tr th {\n",
       "        vertical-align: top;\n",
       "    }\n",
       "\n",
       "    .dataframe thead th {\n",
       "        text-align: right;\n",
       "    }\n",
       "</style>\n",
       "<table border=\"1\" class=\"dataframe\">\n",
       "  <thead>\n",
       "    <tr style=\"text-align: right;\">\n",
       "      <th></th>\n",
       "      <th>Company</th>\n",
       "      <th>Date</th>\n",
       "      <th>News Headline</th>\n",
       "      <th>Compound</th>\n",
       "      <th>Sentiment</th>\n",
       "      <th>pos</th>\n",
       "      <th>neg</th>\n",
       "      <th>neu</th>\n",
       "    </tr>\n",
       "  </thead>\n",
       "  <tbody>\n",
       "    <tr>\n",
       "      <th>0</th>\n",
       "      <td>ALPHABET</td>\n",
       "      <td>2017-09-01</td>\n",
       "      <td>Alphabet to create separate business unit in E...</td>\n",
       "      <td>0.2732</td>\n",
       "      <td>pos</td>\n",
       "      <td>True</td>\n",
       "      <td>False</td>\n",
       "      <td>False</td>\n",
       "    </tr>\n",
       "    <tr>\n",
       "      <th>1</th>\n",
       "      <td>ALPHABET</td>\n",
       "      <td>2017-09-01</td>\n",
       "      <td>Google will separate its shopping business fro...</td>\n",
       "      <td>-0.2960</td>\n",
       "      <td>neg</td>\n",
       "      <td>False</td>\n",
       "      <td>True</td>\n",
       "      <td>False</td>\n",
       "    </tr>\n",
       "    <tr>\n",
       "      <th>2</th>\n",
       "      <td>ALPHABET</td>\n",
       "      <td>2017-09-01</td>\n",
       "      <td>Google to treat shopping rivals equally, in li...</td>\n",
       "      <td>0.4019</td>\n",
       "      <td>pos</td>\n",
       "      <td>True</td>\n",
       "      <td>False</td>\n",
       "      <td>False</td>\n",
       "    </tr>\n",
       "    <tr>\n",
       "      <th>3</th>\n",
       "      <td>ALPHABET</td>\n",
       "      <td>2017-09-01</td>\n",
       "      <td>Will Alphabet's new structure make Google's bu...</td>\n",
       "      <td>0.0000</td>\n",
       "      <td>neu</td>\n",
       "      <td>False</td>\n",
       "      <td>False</td>\n",
       "      <td>True</td>\n",
       "    </tr>\n",
       "    <tr>\n",
       "      <th>4</th>\n",
       "      <td>ALPHABET</td>\n",
       "      <td>2017-09-01</td>\n",
       "      <td>Alphabet forms holding company called XXVI for...</td>\n",
       "      <td>0.0000</td>\n",
       "      <td>neu</td>\n",
       "      <td>False</td>\n",
       "      <td>False</td>\n",
       "      <td>True</td>\n",
       "    </tr>\n",
       "    <tr>\n",
       "      <th>...</th>\n",
       "      <td>...</td>\n",
       "      <td>...</td>\n",
       "      <td>...</td>\n",
       "      <td>...</td>\n",
       "      <td>...</td>\n",
       "      <td>...</td>\n",
       "      <td>...</td>\n",
       "      <td>...</td>\n",
       "    </tr>\n",
       "    <tr>\n",
       "      <th>33892</th>\n",
       "      <td>WALMART</td>\n",
       "      <td>2020-09-01</td>\n",
       "      <td>Walmart?Âs latest PS5 preorders were gone in ...</td>\n",
       "      <td>0.0000</td>\n",
       "      <td>neu</td>\n",
       "      <td>False</td>\n",
       "      <td>False</td>\n",
       "      <td>True</td>\n",
       "    </tr>\n",
       "    <tr>\n",
       "      <th>33893</th>\n",
       "      <td>WALMART</td>\n",
       "      <td>2020-09-01</td>\n",
       "      <td>Walmart to offer employees more pay, more resp...</td>\n",
       "      <td>-0.1761</td>\n",
       "      <td>neu</td>\n",
       "      <td>False</td>\n",
       "      <td>False</td>\n",
       "      <td>True</td>\n",
       "    </tr>\n",
       "    <tr>\n",
       "      <th>33894</th>\n",
       "      <td>WALMART</td>\n",
       "      <td>2020-09-01</td>\n",
       "      <td>Walmart Strikes TV Measurement, Analytics Deal...</td>\n",
       "      <td>-0.3612</td>\n",
       "      <td>neg</td>\n",
       "      <td>False</td>\n",
       "      <td>True</td>\n",
       "      <td>False</td>\n",
       "    </tr>\n",
       "    <tr>\n",
       "      <th>33895</th>\n",
       "      <td>WALMART</td>\n",
       "      <td>2020-09-01</td>\n",
       "      <td>After Fatal Shooting In Walmart Parking Lot, L...</td>\n",
       "      <td>-0.8481</td>\n",
       "      <td>neg</td>\n",
       "      <td>False</td>\n",
       "      <td>True</td>\n",
       "      <td>False</td>\n",
       "    </tr>\n",
       "    <tr>\n",
       "      <th>33896</th>\n",
       "      <td>WALMART</td>\n",
       "      <td>2020-09-01</td>\n",
       "      <td>Walmart is aiming for zero emissions by 2040. ...</td>\n",
       "      <td>0.0000</td>\n",
       "      <td>neu</td>\n",
       "      <td>False</td>\n",
       "      <td>False</td>\n",
       "      <td>True</td>\n",
       "    </tr>\n",
       "  </tbody>\n",
       "</table>\n",
       "<p>33897 rows × 8 columns</p>\n",
       "</div>"
      ],
      "text/plain": [
       "        Company        Date  \\\n",
       "0      ALPHABET  2017-09-01   \n",
       "1      ALPHABET  2017-09-01   \n",
       "2      ALPHABET  2017-09-01   \n",
       "3      ALPHABET  2017-09-01   \n",
       "4      ALPHABET  2017-09-01   \n",
       "...         ...         ...   \n",
       "33892   WALMART  2020-09-01   \n",
       "33893   WALMART  2020-09-01   \n",
       "33894   WALMART  2020-09-01   \n",
       "33895   WALMART  2020-09-01   \n",
       "33896   WALMART  2020-09-01   \n",
       "\n",
       "                                           News Headline  Compound Sentiment  \\\n",
       "0      Alphabet to create separate business unit in E...    0.2732       pos   \n",
       "1      Google will separate its shopping business fro...   -0.2960       neg   \n",
       "2      Google to treat shopping rivals equally, in li...    0.4019       pos   \n",
       "3      Will Alphabet's new structure make Google's bu...    0.0000       neu   \n",
       "4      Alphabet forms holding company called XXVI for...    0.0000       neu   \n",
       "...                                                  ...       ...       ...   \n",
       "33892  Walmart?Âs latest PS5 preorders were gone in ...    0.0000       neu   \n",
       "33893  Walmart to offer employees more pay, more resp...   -0.1761       neu   \n",
       "33894  Walmart Strikes TV Measurement, Analytics Deal...   -0.3612       neg   \n",
       "33895  After Fatal Shooting In Walmart Parking Lot, L...   -0.8481       neg   \n",
       "33896  Walmart is aiming for zero emissions by 2040. ...    0.0000       neu   \n",
       "\n",
       "         pos    neg    neu  \n",
       "0       True  False  False  \n",
       "1      False   True  False  \n",
       "2       True  False  False  \n",
       "3      False  False   True  \n",
       "4      False  False   True  \n",
       "...      ...    ...    ...  \n",
       "33892  False  False   True  \n",
       "33893  False  False   True  \n",
       "33894  False   True  False  \n",
       "33895  False   True  False  \n",
       "33896  False  False   True  \n",
       "\n",
       "[33897 rows x 8 columns]"
      ]
     },
     "execution_count": 357,
     "metadata": {},
     "output_type": "execute_result"
    }
   ],
   "source": [
    "final_dataset"
   ]
  },
  {
   "cell_type": "code",
   "execution_count": 358,
   "metadata": {
    "scrolled": true
   },
   "outputs": [],
   "source": [
    "final_company = list(final_dataset.groupby(by = ['Company','Date']).count().reset_index()['Company'])\n",
    "final_date = list(final_dataset.groupby(by = ['Company','Date']).count().reset_index()['Date'])\n",
    "final_mean = list(final_dataset.groupby(by = ['Company','Date'])['Compound'].mean())\n",
    "final_pos = list(final_dataset.groupby(by = ['Company','Date'])['pos'].sum())\n",
    "final_neg = list(final_dataset.groupby(by = ['Company','Date'])['neg'].sum())\n",
    "final_neu = list(final_dataset.groupby(by = ['Company','Date'])['neu'].sum())"
   ]
  },
  {
   "cell_type": "code",
   "execution_count": 361,
   "metadata": {
    "scrolled": true
   },
   "outputs": [],
   "source": [
    "A = pd.DataFrame({'Company':final_company, 'Date':final_date,'mean':final_mean, 'pos' : final_pos, 'neg' : final_neg, 'neu':final_neu})"
   ]
  },
  {
   "cell_type": "code",
   "execution_count": 362,
   "metadata": {},
   "outputs": [
    {
     "data": {
      "text/html": [
       "<div>\n",
       "<style scoped>\n",
       "    .dataframe tbody tr th:only-of-type {\n",
       "        vertical-align: middle;\n",
       "    }\n",
       "\n",
       "    .dataframe tbody tr th {\n",
       "        vertical-align: top;\n",
       "    }\n",
       "\n",
       "    .dataframe thead th {\n",
       "        text-align: right;\n",
       "    }\n",
       "</style>\n",
       "<table border=\"1\" class=\"dataframe\">\n",
       "  <thead>\n",
       "    <tr style=\"text-align: right;\">\n",
       "      <th></th>\n",
       "      <th>Company</th>\n",
       "      <th>Date</th>\n",
       "      <th>mean</th>\n",
       "      <th>pos</th>\n",
       "      <th>neg</th>\n",
       "      <th>neu</th>\n",
       "    </tr>\n",
       "  </thead>\n",
       "  <tbody>\n",
       "    <tr>\n",
       "      <th>0</th>\n",
       "      <td>ALPHABET</td>\n",
       "      <td>2017-09-01</td>\n",
       "      <td>0.036231</td>\n",
       "      <td>15.0</td>\n",
       "      <td>8.0</td>\n",
       "      <td>73.0</td>\n",
       "    </tr>\n",
       "    <tr>\n",
       "      <th>1</th>\n",
       "      <td>ALPHABET</td>\n",
       "      <td>2017-10-01</td>\n",
       "      <td>0.075615</td>\n",
       "      <td>21.0</td>\n",
       "      <td>10.0</td>\n",
       "      <td>61.0</td>\n",
       "    </tr>\n",
       "    <tr>\n",
       "      <th>2</th>\n",
       "      <td>ALPHABET</td>\n",
       "      <td>2017-11-01</td>\n",
       "      <td>0.005836</td>\n",
       "      <td>17.0</td>\n",
       "      <td>16.0</td>\n",
       "      <td>62.0</td>\n",
       "    </tr>\n",
       "    <tr>\n",
       "      <th>3</th>\n",
       "      <td>ALPHABET</td>\n",
       "      <td>2017-12-01</td>\n",
       "      <td>0.041672</td>\n",
       "      <td>23.0</td>\n",
       "      <td>11.0</td>\n",
       "      <td>62.0</td>\n",
       "    </tr>\n",
       "    <tr>\n",
       "      <th>4</th>\n",
       "      <td>ALPHABET</td>\n",
       "      <td>2018-01-01</td>\n",
       "      <td>0.106406</td>\n",
       "      <td>26.0</td>\n",
       "      <td>8.0</td>\n",
       "      <td>62.0</td>\n",
       "    </tr>\n",
       "    <tr>\n",
       "      <th>...</th>\n",
       "      <td>...</td>\n",
       "      <td>...</td>\n",
       "      <td>...</td>\n",
       "      <td>...</td>\n",
       "      <td>...</td>\n",
       "      <td>...</td>\n",
       "    </tr>\n",
       "    <tr>\n",
       "      <th>550</th>\n",
       "      <td>WALMART</td>\n",
       "      <td>2020-05-01</td>\n",
       "      <td>-0.017700</td>\n",
       "      <td>17.0</td>\n",
       "      <td>22.0</td>\n",
       "      <td>57.0</td>\n",
       "    </tr>\n",
       "    <tr>\n",
       "      <th>551</th>\n",
       "      <td>WALMART</td>\n",
       "      <td>2020-06-01</td>\n",
       "      <td>-0.039328</td>\n",
       "      <td>17.0</td>\n",
       "      <td>23.0</td>\n",
       "      <td>54.0</td>\n",
       "    </tr>\n",
       "    <tr>\n",
       "      <th>552</th>\n",
       "      <td>WALMART</td>\n",
       "      <td>2020-07-01</td>\n",
       "      <td>-0.023563</td>\n",
       "      <td>14.0</td>\n",
       "      <td>19.0</td>\n",
       "      <td>57.0</td>\n",
       "    </tr>\n",
       "    <tr>\n",
       "      <th>553</th>\n",
       "      <td>WALMART</td>\n",
       "      <td>2020-08-01</td>\n",
       "      <td>0.030407</td>\n",
       "      <td>20.0</td>\n",
       "      <td>18.0</td>\n",
       "      <td>56.0</td>\n",
       "    </tr>\n",
       "    <tr>\n",
       "      <th>554</th>\n",
       "      <td>WALMART</td>\n",
       "      <td>2020-09-01</td>\n",
       "      <td>0.023461</td>\n",
       "      <td>23.0</td>\n",
       "      <td>16.0</td>\n",
       "      <td>50.0</td>\n",
       "    </tr>\n",
       "  </tbody>\n",
       "</table>\n",
       "<p>555 rows × 6 columns</p>\n",
       "</div>"
      ],
      "text/plain": [
       "      Company        Date      mean   pos   neg   neu\n",
       "0    ALPHABET  2017-09-01  0.036231  15.0   8.0  73.0\n",
       "1    ALPHABET  2017-10-01  0.075615  21.0  10.0  61.0\n",
       "2    ALPHABET  2017-11-01  0.005836  17.0  16.0  62.0\n",
       "3    ALPHABET  2017-12-01  0.041672  23.0  11.0  62.0\n",
       "4    ALPHABET  2018-01-01  0.106406  26.0   8.0  62.0\n",
       "..        ...         ...       ...   ...   ...   ...\n",
       "550   WALMART  2020-05-01 -0.017700  17.0  22.0  57.0\n",
       "551   WALMART  2020-06-01 -0.039328  17.0  23.0  54.0\n",
       "552   WALMART  2020-07-01 -0.023563  14.0  19.0  57.0\n",
       "553   WALMART  2020-08-01  0.030407  20.0  18.0  56.0\n",
       "554   WALMART  2020-09-01  0.023461  23.0  16.0  50.0\n",
       "\n",
       "[555 rows x 6 columns]"
      ]
     },
     "execution_count": 362,
     "metadata": {},
     "output_type": "execute_result"
    }
   ],
   "source": [
    "A"
   ]
  },
  {
   "cell_type": "code",
   "execution_count": 363,
   "metadata": {},
   "outputs": [],
   "source": [
    "A.to_csv('textmining_result/google_master.csv', index = False)"
   ]
  },
  {
   "cell_type": "markdown",
   "metadata": {},
   "source": [
    "### 시각화"
   ]
  },
  {
   "cell_type": "code",
   "execution_count": 370,
   "metadata": {},
   "outputs": [],
   "source": [
    "import numpy as np"
   ]
  },
  {
   "cell_type": "code",
   "execution_count": 403,
   "metadata": {},
   "outputs": [],
   "source": [
    "A = pd.read_csv('textmining_result/google_master.csv')"
   ]
  },
  {
   "cell_type": "code",
   "execution_count": 384,
   "metadata": {},
   "outputs": [
    {
     "data": {
      "text/html": [
       "<div>\n",
       "<style scoped>\n",
       "    .dataframe tbody tr th:only-of-type {\n",
       "        vertical-align: middle;\n",
       "    }\n",
       "\n",
       "    .dataframe tbody tr th {\n",
       "        vertical-align: top;\n",
       "    }\n",
       "\n",
       "    .dataframe thead th {\n",
       "        text-align: right;\n",
       "    }\n",
       "</style>\n",
       "<table border=\"1\" class=\"dataframe\">\n",
       "  <thead>\n",
       "    <tr style=\"text-align: right;\">\n",
       "      <th></th>\n",
       "      <th>Company</th>\n",
       "      <th>Date</th>\n",
       "      <th>mean</th>\n",
       "      <th>pos</th>\n",
       "      <th>neg</th>\n",
       "      <th>neu</th>\n",
       "    </tr>\n",
       "  </thead>\n",
       "  <tbody>\n",
       "    <tr>\n",
       "      <th>0</th>\n",
       "      <td>ALPHABET</td>\n",
       "      <td>2017-09-01</td>\n",
       "      <td>0.036231</td>\n",
       "      <td>15.0</td>\n",
       "      <td>8.0</td>\n",
       "      <td>73.0</td>\n",
       "    </tr>\n",
       "    <tr>\n",
       "      <th>1</th>\n",
       "      <td>ALPHABET</td>\n",
       "      <td>2017-10-01</td>\n",
       "      <td>0.075615</td>\n",
       "      <td>21.0</td>\n",
       "      <td>10.0</td>\n",
       "      <td>61.0</td>\n",
       "    </tr>\n",
       "    <tr>\n",
       "      <th>2</th>\n",
       "      <td>ALPHABET</td>\n",
       "      <td>2017-11-01</td>\n",
       "      <td>0.005836</td>\n",
       "      <td>17.0</td>\n",
       "      <td>16.0</td>\n",
       "      <td>62.0</td>\n",
       "    </tr>\n",
       "    <tr>\n",
       "      <th>3</th>\n",
       "      <td>ALPHABET</td>\n",
       "      <td>2017-12-01</td>\n",
       "      <td>0.041672</td>\n",
       "      <td>23.0</td>\n",
       "      <td>11.0</td>\n",
       "      <td>62.0</td>\n",
       "    </tr>\n",
       "    <tr>\n",
       "      <th>4</th>\n",
       "      <td>ALPHABET</td>\n",
       "      <td>2018-01-01</td>\n",
       "      <td>0.106406</td>\n",
       "      <td>26.0</td>\n",
       "      <td>8.0</td>\n",
       "      <td>62.0</td>\n",
       "    </tr>\n",
       "    <tr>\n",
       "      <th>...</th>\n",
       "      <td>...</td>\n",
       "      <td>...</td>\n",
       "      <td>...</td>\n",
       "      <td>...</td>\n",
       "      <td>...</td>\n",
       "      <td>...</td>\n",
       "    </tr>\n",
       "    <tr>\n",
       "      <th>550</th>\n",
       "      <td>WALMART</td>\n",
       "      <td>2020-05-01</td>\n",
       "      <td>-0.017700</td>\n",
       "      <td>17.0</td>\n",
       "      <td>22.0</td>\n",
       "      <td>57.0</td>\n",
       "    </tr>\n",
       "    <tr>\n",
       "      <th>551</th>\n",
       "      <td>WALMART</td>\n",
       "      <td>2020-06-01</td>\n",
       "      <td>-0.039328</td>\n",
       "      <td>17.0</td>\n",
       "      <td>23.0</td>\n",
       "      <td>54.0</td>\n",
       "    </tr>\n",
       "    <tr>\n",
       "      <th>552</th>\n",
       "      <td>WALMART</td>\n",
       "      <td>2020-07-01</td>\n",
       "      <td>-0.023563</td>\n",
       "      <td>14.0</td>\n",
       "      <td>19.0</td>\n",
       "      <td>57.0</td>\n",
       "    </tr>\n",
       "    <tr>\n",
       "      <th>553</th>\n",
       "      <td>WALMART</td>\n",
       "      <td>2020-08-01</td>\n",
       "      <td>0.030407</td>\n",
       "      <td>20.0</td>\n",
       "      <td>18.0</td>\n",
       "      <td>56.0</td>\n",
       "    </tr>\n",
       "    <tr>\n",
       "      <th>554</th>\n",
       "      <td>WALMART</td>\n",
       "      <td>2020-09-01</td>\n",
       "      <td>0.023461</td>\n",
       "      <td>23.0</td>\n",
       "      <td>16.0</td>\n",
       "      <td>50.0</td>\n",
       "    </tr>\n",
       "  </tbody>\n",
       "</table>\n",
       "<p>555 rows × 6 columns</p>\n",
       "</div>"
      ],
      "text/plain": [
       "      Company        Date      mean   pos   neg   neu\n",
       "0    ALPHABET  2017-09-01  0.036231  15.0   8.0  73.0\n",
       "1    ALPHABET  2017-10-01  0.075615  21.0  10.0  61.0\n",
       "2    ALPHABET  2017-11-01  0.005836  17.0  16.0  62.0\n",
       "3    ALPHABET  2017-12-01  0.041672  23.0  11.0  62.0\n",
       "4    ALPHABET  2018-01-01  0.106406  26.0   8.0  62.0\n",
       "..        ...         ...       ...   ...   ...   ...\n",
       "550   WALMART  2020-05-01 -0.017700  17.0  22.0  57.0\n",
       "551   WALMART  2020-06-01 -0.039328  17.0  23.0  54.0\n",
       "552   WALMART  2020-07-01 -0.023563  14.0  19.0  57.0\n",
       "553   WALMART  2020-08-01  0.030407  20.0  18.0  56.0\n",
       "554   WALMART  2020-09-01  0.023461  23.0  16.0  50.0\n",
       "\n",
       "[555 rows x 6 columns]"
      ]
     },
     "execution_count": 384,
     "metadata": {},
     "output_type": "execute_result"
    }
   ],
   "source": [
    "A"
   ]
  },
  {
   "cell_type": "code",
   "execution_count": 415,
   "metadata": {},
   "outputs": [
    {
     "data": {
      "text/plain": [
       "['2017-09-01',\n",
       " '2017-10-01',\n",
       " '2017-11-01',\n",
       " '2017-12-01',\n",
       " '2018-01-01',\n",
       " '2018-02-01',\n",
       " '2018-03-01',\n",
       " '2018-04-01',\n",
       " '2018-05-01',\n",
       " '2018-06-01',\n",
       " '2018-07-01',\n",
       " '2018-08-01',\n",
       " '2018-09-01',\n",
       " '2018-10-01',\n",
       " '2018-11-01',\n",
       " '2018-12-01',\n",
       " '2019-01-01',\n",
       " '2019-02-01',\n",
       " '2019-03-01',\n",
       " '2019-04-01',\n",
       " '2019-05-01',\n",
       " '2019-06-01',\n",
       " '2019-07-01',\n",
       " '2019-08-01',\n",
       " '2019-09-01',\n",
       " '2019-10-01',\n",
       " '2019-11-01',\n",
       " '2019-12-01',\n",
       " '2020-01-01',\n",
       " '2020-02-01',\n",
       " '2020-03-01',\n",
       " '2020-04-01',\n",
       " '2020-05-01',\n",
       " '2020-06-01',\n",
       " '2020-07-01',\n",
       " '2020-08-01',\n",
       " '2020-09-01']"
      ]
     },
     "execution_count": 415,
     "metadata": {},
     "output_type": "execute_result"
    }
   ],
   "source": [
    "list(A[A['Company'] == stock[0]]['Date'])"
   ]
  },
  {
   "cell_type": "code",
   "execution_count": 404,
   "metadata": {},
   "outputs": [],
   "source": [
    "industry_data = 'Cnsmr'"
   ]
  },
  {
   "cell_type": "code",
   "execution_count": 408,
   "metadata": {},
   "outputs": [],
   "source": [
    "class visual:\n",
    "    def show_graph(input,industry_data):\n",
    "        if (industry_data == 'Cnsmr'):\n",
    "            stock = ['AMAZON', 'WALMART','NVIDIA']\n",
    "        elif (industry_data == 'Manuf'):\n",
    "            stock = ['TESLA','P&G','NIKE']\n",
    "        elif (industry_data == 'HiTec'):\n",
    "            stock = ['APPLE', 'MICROSOFT', 'FACEBOOK']\n",
    "        elif (industry_data == 'Hlth'):\n",
    "            stock = ['JOHNSON & JOHNSON', 'PFIZER', 'MERCK AND CO']\n",
    "        elif (industry_data == 'Other'):\n",
    "            stock = ['ALPHABET', 'BERKSHIRE HATHAWAY', 'VISA']\n",
    "\n",
    "\n",
    "        mean0 = list(A[A['Company'] == stock[0]]['mean'])\n",
    "        mean1 = list(A[A['Company'] == stock[1]]['mean'])\n",
    "        mean2 = list(A[A['Company'] == stock[2]]['mean'])\n",
    "\n",
    "        mean = [mean0,mean1,mean2]\n",
    "        return stock, mean"
   ]
  },
  {
   "cell_type": "code",
   "execution_count": 409,
   "metadata": {},
   "outputs": [],
   "source": [
    "e = visual()\n",
    "stock1, mean1 = e.show_graph(industry_data)"
   ]
  },
  {
   "cell_type": "code",
   "execution_count": 413,
   "metadata": {},
   "outputs": [
    {
     "data": {
      "text/plain": [
       "['AMAZON', 'WALMART', 'NVIDIA']"
      ]
     },
     "execution_count": 413,
     "metadata": {},
     "output_type": "execute_result"
    }
   ],
   "source": [
    "stock1"
   ]
  },
  {
   "cell_type": "code",
   "execution_count": 411,
   "metadata": {},
   "outputs": [
    {
     "data": {
      "text/plain": [
       "[[0.1982893617021277,\n",
       "  0.167576288659794,\n",
       "  0.114843085106383,\n",
       "  0.15074736842105246,\n",
       "  0.18002991071428598,\n",
       "  0.1183012345679012,\n",
       "  0.18347849462365576,\n",
       "  0.09261397849462366,\n",
       "  0.13450736842105254,\n",
       "  0.17877765957446803,\n",
       "  0.1935847826086957,\n",
       "  0.2252979591836736,\n",
       "  0.2037631578947368,\n",
       "  0.19179787234042556,\n",
       "  0.1952648936170212,\n",
       "  0.2297967741935484,\n",
       "  0.2139468085106383,\n",
       "  0.12603195876288656,\n",
       "  0.09681938775510204,\n",
       "  0.21148873239436614,\n",
       "  0.14019072164948435,\n",
       "  0.17696666666666652,\n",
       "  0.15640210526315776,\n",
       "  0.11930000000000003,\n",
       "  0.20915056179775288,\n",
       "  0.12916935483870975,\n",
       "  0.15086595744680845,\n",
       "  0.10086595744680846,\n",
       "  0.10703645833333328,\n",
       "  0.23407959183673474,\n",
       "  0.15816276595744674,\n",
       "  0.1458861702127659,\n",
       "  0.14471727272727258,\n",
       "  0.1927102040816326,\n",
       "  0.17792222222222212,\n",
       "  0.1381626262626262,\n",
       "  0.15779999999999986],\n",
       " [0.054742857142857135,\n",
       "  -0.0673622222222222,\n",
       "  -0.08931395348837211,\n",
       "  -0.03611368421052633,\n",
       "  -0.03256086956521737,\n",
       "  -0.02788409090909091,\n",
       "  -0.11503367346938775,\n",
       "  0.01744945054945055,\n",
       "  0.017102222222222224,\n",
       "  -0.08639895833333333,\n",
       "  -0.03364623655913977,\n",
       "  0.04911318681318684,\n",
       "  -0.011458947368421051,\n",
       "  0.02020769230769231,\n",
       "  -0.008877894736842112,\n",
       "  -0.012509677419354845,\n",
       "  -0.021078494623655915,\n",
       "  0.02804791666666667,\n",
       "  0.02264494382022472,\n",
       "  0.06986373626373626,\n",
       "  0.0667287356321839,\n",
       "  -0.03431979166666666,\n",
       "  -0.0964263157894737,\n",
       "  -0.257805376344086,\n",
       "  -0.004628125,\n",
       "  0.04093655913978495,\n",
       "  -0.05940722891566262,\n",
       "  -0.03919999999999999,\n",
       "  -0.04179368421052631,\n",
       "  -0.11715416666666666,\n",
       "  -0.013552631578947365,\n",
       "  -0.037048421052631585,\n",
       "  -0.0177,\n",
       "  -0.03932765957446808,\n",
       "  -0.02356333333333333,\n",
       "  0.030407446808510638,\n",
       "  0.023460674157303383],\n",
       " [0.06558409090909091,\n",
       "  0.07429052631578946,\n",
       "  0.07977473684210527,\n",
       "  0.088286,\n",
       "  0.0864855670103093,\n",
       "  0.05885483870967743,\n",
       "  0.08961145833333332,\n",
       "  0.03464040404040405,\n",
       "  0.032532978723404264,\n",
       "  0.11573020833333332,\n",
       "  0.0645940594059406,\n",
       "  0.0862195652173913,\n",
       "  0.06323052631578949,\n",
       "  0.034009375,\n",
       "  -0.007970833333333332,\n",
       "  0.033796969696969686,\n",
       "  -0.05376701030927835,\n",
       "  0.02721800000000001,\n",
       "  0.0499463157894737,\n",
       "  0.03174432989690722,\n",
       "  -0.03539578947368422,\n",
       "  0.15745319148936168,\n",
       "  0.21781443298969055,\n",
       "  0.0423021978021978,\n",
       "  0.12158586956521746,\n",
       "  0.17616086956521734,\n",
       "  0.16585869565217387,\n",
       "  0.07331648351648352,\n",
       "  0.11117263157894736,\n",
       "  0.07845555555555557,\n",
       "  0.0698357142857143,\n",
       "  0.11497422680412372,\n",
       "  0.07247252747252747,\n",
       "  0.0273968085106383,\n",
       "  0.02964536082474227,\n",
       "  0.06901632653061225,\n",
       "  0.0448]]"
      ]
     },
     "execution_count": 411,
     "metadata": {},
     "output_type": "execute_result"
    }
   ],
   "source": [
    "mean1"
   ]
  },
  {
   "cell_type": "code",
   "execution_count": 380,
   "metadata": {},
   "outputs": [
    {
     "data": {
      "text/plain": [
       "[]"
      ]
     },
     "execution_count": 380,
     "metadata": {},
     "output_type": "execute_result"
    },
    {
     "data": {
      "image/png": "[encoded data removed]",
      "text/plain": [
       "<Figure size 432x288 with 1 Axes>"
      ]
     },
     "metadata": {
      "needs_background": "light"
     },
     "output_type": "display_data"
    }
   ],
   "source": [
    "x = np.arange(37)\n",
    "plt.bar(x,A[A['Company'] == 'ALPHABET']['mean'])\n",
    "plt.xticks(x,A[A['Company'] == 'ALPHABET']['Date'])\n",
    "#plt.show()\n",
    "plt.plot()"
   ]
  },
  {
   "cell_type": "code",
   "execution_count": 377,
   "metadata": {},
   "outputs": [
    {
     "data": {
      "image/png": "[encoded data removed]",
      "text/plain": [
       "<Figure size 432x288 with 1 Axes>"
      ]
     },
     "metadata": {
      "needs_background": "light"
     },
     "output_type": "display_data"
    }
   ],
   "source": [
    "x = np.arange(37)\n",
    "plt.bar(x,A[A['Company'] == 'AMAZON']['mean'])\n",
    "plt.xticks(x,A[A['Company'] == 'AMAZON']['Date'])\n",
    "plt.show()"
   ]
  },
  {
   "cell_type": "code",
   "execution_count": 376,
   "metadata": {},
   "outputs": [
    {
     "data": {
      "image/png": "[encoded data removed]",
      "text/plain": [
       "<Figure size 432x288 with 1 Axes>"
      ]
     },
     "metadata": {
      "needs_background": "light"
     },
     "output_type": "display_data"
    }
   ],
   "source": [
    "x = np.arange(37)\n",
    "plt.bar(x,A[A['Company'] == 'TESLA']['mean'])\n",
    "plt.xticks(x,A[A['Company'] == 'TESLA']['Date'])\n",
    "plt.show()"
   ]
  },
  {
   "cell_type": "code",
   "execution_count": 375,
   "metadata": {},
   "outputs": [
    {
     "data": {
      "image/png": "[encoded data removed]",
      "text/plain": [
       "<Figure size 432x288 with 1 Axes>"
      ]
     },
     "metadata": {
      "needs_background": "light"
     },
     "output_type": "display_data"
    }
   ],
   "source": [
    "x = np.arange(37)\n",
    "plt.bar(x,A[A['Company'] == 'WALMART']['mean'])\n",
    "plt.xticks(x,A[A['Company'] == 'WALMART']['Date'])\n",
    "plt.show()"
   ]
  },
  {
   "cell_type": "code",
   "execution_count": null,
   "metadata": {},
   "outputs": [],
   "source": []
  }
 ],
 "metadata": {
  "kernelspec": {
   "display_name": "Python 3",
   "language": "python",
   "name": "python3"
  },
  "language_info": {
   "codemirror_mode": {
    "name": "ipython",
    "version": 3
   },
   "file_extension": ".py",
   "mimetype": "text/x-python",
   "name": "python",
   "nbconvert_exporter": "python",
   "pygments_lexer": "ipython3",
   "version": "3.7.6"
  }
 },
 "nbformat": 4,
 "nbformat_minor": 4
}
